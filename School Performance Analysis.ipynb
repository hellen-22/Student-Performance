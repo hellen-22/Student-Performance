{
 "cells": [
  {
   "cell_type": "markdown",
   "id": "sound-importance",
   "metadata": {},
   "source": [
    "## DATA COLLECTION"
   ]
  },
  {
   "cell_type": "code",
   "execution_count": null,
   "id": "congressional-chancellor",
   "metadata": {},
   "outputs": [],
   "source": [
    "import pandas as pd\n",
    "from matplotlib import pyplot as plt\n",
    "import seaborn as sns\n",
    "import numpy as np"
   ]
  },
  {
   "cell_type": "code",
   "execution_count": null,
   "id": "entertaining-possession",
   "metadata": {},
   "outputs": [],
   "source": [
    "performance_data = pd.read_csv(\"StudentsPerformance.csv\")\n",
    "performance_data"
   ]
  },
  {
   "cell_type": "code",
   "execution_count": null,
   "id": "determined-profile",
   "metadata": {},
   "outputs": [],
   "source": [
    "performance_data.shape"
   ]
  },
  {
   "cell_type": "code",
   "execution_count": null,
   "id": "written-perfume",
   "metadata": {},
   "outputs": [],
   "source": [
    "performance_data.head()"
   ]
  },
  {
   "cell_type": "code",
   "execution_count": null,
   "id": "careful-trust",
   "metadata": {},
   "outputs": [],
   "source": [
    "performance_data.tail()"
   ]
  },
  {
   "cell_type": "code",
   "execution_count": null,
   "id": "exotic-toolbox",
   "metadata": {},
   "outputs": [],
   "source": [
    "performance_data.describe()"
   ]
  },
  {
   "cell_type": "code",
   "execution_count": null,
   "id": "demographic-morgan",
   "metadata": {},
   "outputs": [],
   "source": [
    "performance_data.info()"
   ]
  },
  {
   "cell_type": "code",
   "execution_count": null,
   "id": "sixth-dynamics",
   "metadata": {},
   "outputs": [],
   "source": [
    "performance_data.columns"
   ]
  },
  {
   "cell_type": "markdown",
   "id": "entertaining-chase",
   "metadata": {},
   "source": [
    "## DATA CLEANING"
   ]
  },
  {
   "cell_type": "code",
   "execution_count": null,
   "id": "intensive-complement",
   "metadata": {},
   "outputs": [],
   "source": [
    "performance_data.isnull().values.any()"
   ]
  },
  {
   "cell_type": "markdown",
   "id": "instructional-conversation",
   "metadata": {},
   "source": [
    "## ANALYZING DATA"
   ]
  },
  {
   "cell_type": "code",
   "execution_count": null,
   "id": "mobile-exception",
   "metadata": {},
   "outputs": [],
   "source": [
    "performance_data[\"gender\"]"
   ]
  },
  {
   "cell_type": "code",
   "execution_count": null,
   "id": "third-minneapolis",
   "metadata": {},
   "outputs": [],
   "source": [
    "performance_data[(performance_data[\"math score\"] < 50) & (performance_data[\"gender\"] == \"female\")].count()"
   ]
  },
  {
   "cell_type": "code",
   "execution_count": null,
   "id": "domestic-player",
   "metadata": {},
   "outputs": [],
   "source": [
    "performance_data[(performance_data[\"math score\"] <= 50) & (performance_data[\"gender\"] == \"female\")].count()"
   ]
  },
  {
   "cell_type": "code",
   "execution_count": null,
   "id": "trained-cornwall",
   "metadata": {},
   "outputs": [],
   "source": [
    "performance_data[(performance_data[\"math score\"] <= 50) & (performance_data[\"gender\"] == \"female\")].head()"
   ]
  },
  {
   "cell_type": "code",
   "execution_count": null,
   "id": "acute-intersection",
   "metadata": {},
   "outputs": [],
   "source": [
    "performance_data[\"parental level of education\"].value_counts()"
   ]
  },
  {
   "cell_type": "code",
   "execution_count": null,
   "id": "handled-martin",
   "metadata": {},
   "outputs": [],
   "source": [
    "pd.crosstab(performance_data[\"gender\"], performance_data[\"race/ethnicity\"])"
   ]
  },
  {
   "cell_type": "code",
   "execution_count": null,
   "id": "recorded-harvest",
   "metadata": {},
   "outputs": [],
   "source": [
    "performance_data[\"total score\"] = (performance_data[\"math score\"] + performance_data[\"reading score\"] + performance_data[\"writing score\"])\n",
    "performance_data.head()"
   ]
  },
  {
   "cell_type": "code",
   "execution_count": null,
   "id": "competent-lender",
   "metadata": {},
   "outputs": [],
   "source": [
    "mean_data = performance_data[\"total score\"].mean()\n",
    "\n",
    "total_values = performance_data[\"total score\"].count()\n",
    "female_values_below_average = performance_data[(performance_data[\"gender\"] == \"female\") & (performance_data[\"total score\"] < mean_data)].count()\n",
    "percentage = (female_values_below_average / total_values) * 100\n",
    "\n",
    "male_values_below_average = performance_data[(performance_data[\"gender\"] == \"male\") & (performance_data[\"total score\"] < mean_data)].count()\n",
    "percentage1 = (male_values_below_average / total_values) * 100\n",
    "\n",
    "total = percentage + percentage1\n",
    "total"
   ]
  },
  {
   "cell_type": "code",
   "execution_count": null,
   "id": "specialized-persian",
   "metadata": {},
   "outputs": [],
   "source": [
    "comments = []\n",
    "values = performance_data[\"total score\"]\n",
    "\n",
    "for value in values:\n",
    "    if value < mean_data:\n",
    "        comments.append(\"Below average\")\n",
    "    else:\n",
    "        comments.append(\"Above average\")\n",
    "        \n",
    "performance_data[\"comments\"] = comments\n",
    "performance_data.head()"
   ]
  },
  {
   "cell_type": "code",
   "execution_count": null,
   "id": "photographic-diameter",
   "metadata": {},
   "outputs": [],
   "source": [
    "performance_data[(performance_data[\"test preparation course\"] == \"none\") & (performance_data[\"comments\"] == \"Above average\")].count()"
   ]
  },
  {
   "cell_type": "code",
   "execution_count": null,
   "id": "generic-garden",
   "metadata": {},
   "outputs": [],
   "source": [
    "performance_data[(performance_data[\"test preparation course\"] == \"completed\") & (performance_data[\"comments\"] == \"Above average\")].count()"
   ]
  },
  {
   "cell_type": "code",
   "execution_count": null,
   "id": "front-jamaica",
   "metadata": {},
   "outputs": [],
   "source": [
    "performance_data.groupby([\"gender\", \"race/ethnicity\"])[\"total score\"].max()"
   ]
  },
  {
   "cell_type": "code",
   "execution_count": null,
   "id": "aware-zoning",
   "metadata": {},
   "outputs": [],
   "source": [
    "performance_data[\"gender\"].value_counts().plot(kind = \"bar\")"
   ]
  },
  {
   "cell_type": "code",
   "execution_count": null,
   "id": "funny-greenhouse",
   "metadata": {},
   "outputs": [],
   "source": [
    "x = performance_data[\"race/ethnicity\"].value_counts()\n",
    "data_labels = [\"group A\", \"group B\", \"group C\", \"group D\", \"group E\"]\n",
    "data_explode = [0, 0, 0, 0.051, 0]\n",
    "\n",
    "plt.pie(x, labels=data_labels, explode = data_explode, startangle = 90, shadow = True)\n",
    "plt.show()"
   ]
  },
  {
   "cell_type": "code",
   "execution_count": null,
   "id": "occasional-buyer",
   "metadata": {},
   "outputs": [],
   "source": [
    "sns.barplot(x='total score',y= 'parental level of education', data = performance_data)"
   ]
  },
  {
   "cell_type": "code",
   "execution_count": null,
   "id": "preliminary-roman",
   "metadata": {},
   "outputs": [],
   "source": [
    "x = performance_data[\"gender\"]\n",
    "y = performance_data[\"math score\"]\n",
    "plt.scatter(x, y, label=\"Math\", color=\"Purple\")\n",
    "plt.xlabel(\"Gender\")\n",
    "plt.ylabel(\"Math Scores\")\n",
    "plt.show()\n",
    "\n",
    "y1 = performance_data[\"reading score\"]\n",
    "plt.scatter(x, y1, label=\"Reading\", color=\"Blue\")\n",
    "plt.xlabel(\"Gender\")\n",
    "plt.ylabel(\"Reading Scores\")\n",
    "plt.show()\n",
    "\n",
    "y2 = performance_data[\"writing score\"]\n",
    "plt.scatter(x, y2, label=\"Writing\", color=\"green\")\n",
    "plt.xlabel(\"Gender\")\n",
    "plt.ylabel(\"Scores\")\n",
    "plt.show()"
   ]
  },
  {
   "cell_type": "code",
   "execution_count": null,
   "id": "incident-detection",
   "metadata": {},
   "outputs": [],
   "source": [
    "performance_data[\"test preparation course\"].value_counts().plot(kind = \"bar\")"
   ]
  },
  {
   "cell_type": "code",
   "execution_count": null,
   "id": "decimal-tuition",
   "metadata": {},
   "outputs": [],
   "source": [
    "x = performance_data[\"math score\"]\n",
    "plt.axvline(performance_data[\"math score\"].mean(), color = \"yellow\")\n",
    "plt.xlabel(\"Math Performance\")\n",
    "plt.ylabel(\"Frequency\")\n",
    "plt.hist(x, color = \"purple\")\n",
    "plt.show()"
   ]
  },
  {
   "cell_type": "code",
   "execution_count": null,
   "id": "normal-samuel",
   "metadata": {},
   "outputs": [],
   "source": [
    "x = performance_data[\"gender\"]\n",
    "y = performance_data[\"total score\"]\n",
    "plt.scatter(x, y, label=\"Math\", color=\"black\")\n",
    "plt.xlabel(\"Gender\")\n",
    "plt.ylabel(\"Total Scores\")\n",
    "plt.show()"
   ]
  },
  {
   "cell_type": "code",
   "execution_count": null,
   "id": "shaped-timeline",
   "metadata": {},
   "outputs": [],
   "source": []
  }
 ],
 "metadata": {
  "kernelspec": {
   "display_name": "Python 3",
   "language": "python",
   "name": "python3"
  },
  "language_info": {
   "codemirror_mode": {
    "name": "ipython",
    "version": 3
   },
   "file_extension": ".py",
   "mimetype": "text/x-python",
   "name": "python",
   "nbconvert_exporter": "python",
   "pygments_lexer": "ipython3",
   "version": "3.8.0"
  }
 },
 "nbformat": 4,
 "nbformat_minor": 5
}
